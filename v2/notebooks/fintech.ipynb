{
 "cells": [
  {
   "cell_type": "code",
   "execution_count": 1,
   "metadata": {},
   "outputs": [],
   "source": [
    "import pandas as pd\n",
    "import numpy as np\n",
    "from sklearn.cluster import KMeans\n",
    "from sklearn.preprocessing import StandardScaler, OneHotEncoder\n",
    "from sklearn.compose import ColumnTransformer\n",
    "from sklearn.pipeline import Pipeline\n",
    "from sklearn.model_selection import train_test_split\n",
    "from sklearn.ensemble import RandomForestClassifier\n",
    "from sklearn.metrics import classification_report, accuracy_score\n",
    "import matplotlib.pyplot as plt"
   ]
  },
  {
   "cell_type": "code",
   "execution_count": 2,
   "metadata": {},
   "outputs": [],
   "source": [
    "data = pd.read_csv('../database/data_final.csv')"
   ]
  },
  {
   "cell_type": "code",
   "execution_count": 3,
   "metadata": {},
   "outputs": [
    {
     "data": {
      "text/html": [
       "<div>\n",
       "<style scoped>\n",
       "    .dataframe tbody tr th:only-of-type {\n",
       "        vertical-align: middle;\n",
       "    }\n",
       "\n",
       "    .dataframe tbody tr th {\n",
       "        vertical-align: top;\n",
       "    }\n",
       "\n",
       "    .dataframe thead th {\n",
       "        text-align: right;\n",
       "    }\n",
       "</style>\n",
       "<table border=\"1\" class=\"dataframe\">\n",
       "  <thead>\n",
       "    <tr style=\"text-align: right;\">\n",
       "      <th></th>\n",
       "      <th>сумма_выдачи</th>\n",
       "      <th>количество</th>\n",
       "      <th>дата_выдачи</th>\n",
       "      <th>дата_погашения</th>\n",
       "      <th>срок_кредита</th>\n",
       "      <th>цикл</th>\n",
       "      <th>кредитный_продукт</th>\n",
       "      <th>сфера_кредита</th>\n",
       "      <th>код_цель</th>\n",
       "      <th>цель_кредита</th>\n",
       "      <th>...</th>\n",
       "      <th>количество_поручителей</th>\n",
       "      <th>количество_залогов</th>\n",
       "      <th>залоговая_стоимость</th>\n",
       "      <th>наименование_залога</th>\n",
       "      <th>возраст</th>\n",
       "      <th>пол</th>\n",
       "      <th>регион_город</th>\n",
       "      <th>должность</th>\n",
       "      <th>местность</th>\n",
       "      <th>cumulative_days</th>\n",
       "    </tr>\n",
       "  </thead>\n",
       "  <tbody>\n",
       "    <tr>\n",
       "      <th>0</th>\n",
       "      <td>2500000.0</td>\n",
       "      <td>1</td>\n",
       "      <td>2018-01-04</td>\n",
       "      <td>2019-01-04</td>\n",
       "      <td>12</td>\n",
       "      <td>1</td>\n",
       "      <td>Хазина (Кис?а муддатли)</td>\n",
       "      <td>Микрозаем (Краткосрочный)</td>\n",
       "      <td>195</td>\n",
       "      <td>Миграция</td>\n",
       "      <td>...</td>\n",
       "      <td>1</td>\n",
       "      <td>0</td>\n",
       "      <td>0</td>\n",
       "      <td>NaN</td>\n",
       "      <td>50</td>\n",
       "      <td>Ж</td>\n",
       "      <td>КУКОН ШАХРИ</td>\n",
       "      <td>Тарбиячи</td>\n",
       "      <td>Urban - Городской</td>\n",
       "      <td>3</td>\n",
       "    </tr>\n",
       "    <tr>\n",
       "      <th>1</th>\n",
       "      <td>6000000.0</td>\n",
       "      <td>1</td>\n",
       "      <td>2018-01-04</td>\n",
       "      <td>2018-10-04</td>\n",
       "      <td>12</td>\n",
       "      <td>1</td>\n",
       "      <td>Сармоя (Киска муддатли)</td>\n",
       "      <td>Микрозаем (Краткосрочный)</td>\n",
       "      <td>195</td>\n",
       "      <td>Миграция</td>\n",
       "      <td>...</td>\n",
       "      <td>0</td>\n",
       "      <td>1</td>\n",
       "      <td>8600000</td>\n",
       "      <td>автотранспорт</td>\n",
       "      <td>27</td>\n",
       "      <td>М</td>\n",
       "      <td>КУКОН ШАХРИ</td>\n",
       "      <td>шофёр</td>\n",
       "      <td>Urban - Городской</td>\n",
       "      <td>13</td>\n",
       "    </tr>\n",
       "    <tr>\n",
       "      <th>2</th>\n",
       "      <td>5000000.0</td>\n",
       "      <td>1</td>\n",
       "      <td>2018-01-05</td>\n",
       "      <td>2019-01-04</td>\n",
       "      <td>12</td>\n",
       "      <td>1</td>\n",
       "      <td>Хазина (Кис?а муддатли)</td>\n",
       "      <td>Микрозаем (Краткосрочный)</td>\n",
       "      <td>195</td>\n",
       "      <td>Миграция</td>\n",
       "      <td>...</td>\n",
       "      <td>1</td>\n",
       "      <td>0</td>\n",
       "      <td>0</td>\n",
       "      <td>NaN</td>\n",
       "      <td>53</td>\n",
       "      <td>Ж</td>\n",
       "      <td>КУКОН ШАХРИ</td>\n",
       "      <td>Укитувчи</td>\n",
       "      <td>Urban - Городской</td>\n",
       "      <td>10</td>\n",
       "    </tr>\n",
       "    <tr>\n",
       "      <th>3</th>\n",
       "      <td>2000000.0</td>\n",
       "      <td>1</td>\n",
       "      <td>2018-01-05</td>\n",
       "      <td>2018-09-05</td>\n",
       "      <td>12</td>\n",
       "      <td>1</td>\n",
       "      <td>Имкон (Киска муддатли)</td>\n",
       "      <td>Микрозаем (Краткосрочный)</td>\n",
       "      <td>195</td>\n",
       "      <td>Миграция</td>\n",
       "      <td>...</td>\n",
       "      <td>0</td>\n",
       "      <td>1</td>\n",
       "      <td>2266000</td>\n",
       "      <td>тилло</td>\n",
       "      <td>45</td>\n",
       "      <td>Ж</td>\n",
       "      <td>БЕШАРИК ТУМАНИ</td>\n",
       "      <td>Укитувчи</td>\n",
       "      <td>Rural - сельский</td>\n",
       "      <td>1</td>\n",
       "    </tr>\n",
       "    <tr>\n",
       "      <th>4</th>\n",
       "      <td>1400000.0</td>\n",
       "      <td>1</td>\n",
       "      <td>2018-01-05</td>\n",
       "      <td>2018-10-05</td>\n",
       "      <td>12</td>\n",
       "      <td>1</td>\n",
       "      <td>Имкон (Киска муддатли)</td>\n",
       "      <td>Микрозаем (Краткосрочный)</td>\n",
       "      <td>195</td>\n",
       "      <td>Миграция</td>\n",
       "      <td>...</td>\n",
       "      <td>0</td>\n",
       "      <td>1</td>\n",
       "      <td>1617000</td>\n",
       "      <td>тилло</td>\n",
       "      <td>31</td>\n",
       "      <td>М</td>\n",
       "      <td>КУКОН ШАХРИ</td>\n",
       "      <td>уста</td>\n",
       "      <td>Urban - Городской</td>\n",
       "      <td>1</td>\n",
       "    </tr>\n",
       "  </tbody>\n",
       "</table>\n",
       "<p>5 rows × 22 columns</p>\n",
       "</div>"
      ],
      "text/plain": [
       "   сумма_выдачи  количество дата_выдачи дата_погашения  срок_кредита  цикл  \\\n",
       "0     2500000.0           1  2018-01-04     2019-01-04            12     1   \n",
       "1     6000000.0           1  2018-01-04     2018-10-04            12     1   \n",
       "2     5000000.0           1  2018-01-05     2019-01-04            12     1   \n",
       "3     2000000.0           1  2018-01-05     2018-09-05            12     1   \n",
       "4     1400000.0           1  2018-01-05     2018-10-05            12     1   \n",
       "\n",
       "         кредитный_продукт              сфера_кредита  код_цель цель_кредита  \\\n",
       "0  Хазина (Кис?а муддатли)  Микрозаем (Краткосрочный)       195     Миграция   \n",
       "1  Сармоя (Киска муддатли)  Микрозаем (Краткосрочный)       195     Миграция   \n",
       "2  Хазина (Кис?а муддатли)  Микрозаем (Краткосрочный)       195     Миграция   \n",
       "3   Имкон (Киска муддатли)  Микрозаем (Краткосрочный)       195     Миграция   \n",
       "4   Имкон (Киска муддатли)  Микрозаем (Краткосрочный)       195     Миграция   \n",
       "\n",
       "   ...  количество_поручителей  количество_залогов  залоговая_стоимость  \\\n",
       "0  ...                       1                   0                    0   \n",
       "1  ...                       0                   1              8600000   \n",
       "2  ...                       1                   0                    0   \n",
       "3  ...                       0                   1              2266000   \n",
       "4  ...                       0                   1              1617000   \n",
       "\n",
       "   наименование_залога  возраст пол    регион_город должность  \\\n",
       "0                  NaN       50   Ж     КУКОН ШАХРИ  Тарбиячи   \n",
       "1        автотранспорт       27   М     КУКОН ШАХРИ     шофёр   \n",
       "2                  NaN       53   Ж     КУКОН ШАХРИ  Укитувчи   \n",
       "3                тилло       45   Ж  БЕШАРИК ТУМАНИ  Укитувчи   \n",
       "4                тилло       31   М     КУКОН ШАХРИ      уста   \n",
       "\n",
       "           местность cumulative_days  \n",
       "0  Urban - Городской               3  \n",
       "1  Urban - Городской              13  \n",
       "2  Urban - Городской              10  \n",
       "3   Rural - сельский               1  \n",
       "4  Urban - Городской               1  \n",
       "\n",
       "[5 rows x 22 columns]"
      ]
     },
     "execution_count": 3,
     "metadata": {},
     "output_type": "execute_result"
    }
   ],
   "source": [
    "data.head()"
   ]
  },
  {
   "cell_type": "code",
   "execution_count": 4,
   "metadata": {},
   "outputs": [],
   "source": [
    "#feature columns\n",
    "selected_features = ['сумма_выдачи', 'должность', 'залоговая_стоимость', \n",
    "                     'кредитный_продукт', 'возраст', 'регион_город', 'cumulative_days']"
   ]
  },
  {
   "cell_type": "code",
   "execution_count": 5,
   "metadata": {},
   "outputs": [],
   "source": [
    "#categorial and numericacl values\n",
    "categorical_columns = ['должность', 'кредитный_продукт', 'регион_город']\n",
    "numerical_columns = ['сумма_выдачи', 'залоговая_стоимость', 'возраст', 'cumulative_days']"
   ]
  },
  {
   "cell_type": "code",
   "execution_count": 6,
   "metadata": {},
   "outputs": [],
   "source": [
    "\n",
    "preprocessor = ColumnTransformer(\n",
    "    transformers=[\n",
    "        ('num', StandardScaler(), numerical_columns),\n",
    "        ('cat', OneHotEncoder(handle_unknown='ignore'), categorical_columns)\n",
    "    ])\n"
   ]
  },
  {
   "cell_type": "code",
   "execution_count": 7,
   "metadata": {},
   "outputs": [],
   "source": [
    "\n",
    "X = preprocessor.fit_transform(data[selected_features])"
   ]
  },
  {
   "cell_type": "code",
   "execution_count": 8,
   "metadata": {},
   "outputs": [],
   "source": [
    "if hasattr(X, \"toarray\"):  \n",
    "    X = X.toarray()"
   ]
  },
  {
   "cell_type": "code",
   "execution_count": 9,
   "metadata": {},
   "outputs": [],
   "source": [
    "#optimal value for k\n",
    "sse = []\n",
    "k_values = range(1, 11)\n",
    "for k in k_values:\n",
    "    kmeans = KMeans(n_clusters=k, random_state=42)\n",
    "    kmeans.fit(X)\n",
    "    sse.append(kmeans.inertia_)"
   ]
  },
  {
   "cell_type": "code",
   "execution_count": 10,
   "metadata": {},
   "outputs": [
    {
     "data": {
      "image/png": "[encoded data removed]",
      "text/plain": [
       "<Figure size 640x480 with 1 Axes>"
      ]
     },
     "metadata": {},
     "output_type": "display_data"
    }
   ],
   "source": [
    "plt.plot(k_values, sse, 'bx-')\n",
    "plt.xlabel('Number of clusters (k)')\n",
    "plt.ylabel('Sum of squared distances')\n",
    "plt.title('Elbow Method for Optimal k')\n",
    "plt.show()"
   ]
  },
  {
   "cell_type": "code",
   "execution_count": 9,
   "metadata": {},
   "outputs": [],
   "source": [
    "optimal_k = 4 "
   ]
  },
  {
   "cell_type": "code",
   "execution_count": 10,
   "metadata": {},
   "outputs": [],
   "source": [
    "kmeans = KMeans(n_clusters=optimal_k, random_state=42)\n",
    "data['cluster_label'] = kmeans.fit_predict(X)"
   ]
  },
  {
   "cell_type": "code",
   "execution_count": 11,
   "metadata": {},
   "outputs": [],
   "source": [
    "#status of clients\n",
    "data['target'] = np.where(data['cumulative_days'] > 60, 1, 0)  # 1: Bad, 0: Good"
   ]
  },
  {
   "cell_type": "code",
   "execution_count": 12,
   "metadata": {},
   "outputs": [],
   "source": [
    "X_with_clusters = pd.concat([pd.DataFrame(X), data['cluster_label']], axis=1)\n",
    "y = data['target']"
   ]
  },
  {
   "cell_type": "code",
   "execution_count": 15,
   "metadata": {},
   "outputs": [],
   "source": [
    "#new\n",
    "# Feature engineering for weights\n",
    "data['loan_amount_weight'] = data['сумма_выдачи'].apply(lambda x: 1 if x > 5000000 else 0.8)\n",
    "# data['collateral_weight'] = data['наименование_залога'].apply(lambda x: 0.7 if 'тилло' in x.lower() else 0.63)\n",
    "data['days_overdue_weight'] = data['cumulative_days'].apply(lambda x: 0.6 if x > 60 else 0.48)\n",
    "data['loan_duration_weight'] = data['срок_кредита'].apply(lambda x: 0.45 if x == 12 else 0.34)\n",
    "# data['client_type_weight'] = data['должность'].apply(lambda x: 0.3 if x > 1 else 0.23)\n",
    "data['age_weight'] = data['возраст'].apply(lambda x: 0.17 if x > 30 else 0.1)\n"
   ]
  },
  {
   "cell_type": "code",
   "execution_count": 16,
   "metadata": {},
   "outputs": [],
   "source": [
    "# new Calculate total weight\n",
    "data['total_weight'] = data['loan_amount_weight']  * \\\n",
    "                       data['days_overdue_weight'] * data['loan_duration_weight']* \\\n",
    "                       data['age_weight']"
   ]
  },
  {
   "cell_type": "code",
   "execution_count": 17,
   "metadata": {},
   "outputs": [],
   "source": [
    "X_train, X_test, y_train, y_test = train_test_split(X_with_clusters, y, test_size=0.3, random_state=42)"
   ]
  },
  {
   "cell_type": "code",
   "execution_count": 18,
   "metadata": {},
   "outputs": [],
   "source": [
    "#new\n",
    "train_weights = data.loc[X_train.index, 'total_weight']\n"
   ]
  },
  {
   "cell_type": "code",
   "execution_count": 19,
   "metadata": {},
   "outputs": [
    {
     "data": {
      "text/plain": [
       "15923    0.027744\n",
       "2814     0.029376\n",
       "15915    0.034680\n",
       "18869    0.017280\n",
       "21338    0.036720\n",
       "           ...   \n",
       "29802    0.027744\n",
       "5390     0.017280\n",
       "860      0.029376\n",
       "15795    0.036720\n",
       "23654    0.020400\n",
       "Name: total_weight, Length: 21820, dtype: float64"
      ]
     },
     "execution_count": 19,
     "metadata": {},
     "output_type": "execute_result"
    }
   ],
   "source": [
    "train_weights"
   ]
  },
  {
   "cell_type": "code",
   "execution_count": 20,
   "metadata": {},
   "outputs": [],
   "source": [
    "if hasattr(X_train, \"toarray\"):\n",
    "    X_train = X_train.toarray()\n",
    "if hasattr(X_test, \"toarray\"):\n",
    "    X_test = X_test.toarray()"
   ]
  },
  {
   "cell_type": "code",
   "execution_count": 21,
   "metadata": {},
   "outputs": [
    {
     "name": "stderr",
     "output_type": "stream",
     "text": [
      "/home/jasurkhon/.local/share/virtualenvs/fintech-FRh8gAjU/lib/python3.10/site-packages/sklearn/utils/validation.py:1858: FutureWarning: Feature names only support names that are all strings. Got feature names with dtypes: ['int', 'str']. An error will be raised in 1.2.\n",
      "  warnings.warn(\n"
     ]
    },
    {
     "data": {
      "text/html": [
       "<style>#sk-container-id-1 {color: black;background-color: white;}#sk-container-id-1 pre{padding: 0;}#sk-container-id-1 div.sk-toggleable {background-color: white;}#sk-container-id-1 label.sk-toggleable__label {cursor: pointer;display: block;width: 100%;margin-bottom: 0;padding: 0.3em;box-sizing: border-box;text-align: center;}#sk-container-id-1 label.sk-toggleable__label-arrow:before {content: \"▸\";float: left;margin-right: 0.25em;color: #696969;}#sk-container-id-1 label.sk-toggleable__label-arrow:hover:before {color: black;}#sk-container-id-1 div.sk-estimator:hover label.sk-toggleable__label-arrow:before {color: black;}#sk-container-id-1 div.sk-toggleable__content {max-height: 0;max-width: 0;overflow: hidden;text-align: left;background-color: #f0f8ff;}#sk-container-id-1 div.sk-toggleable__content pre {margin: 0.2em;color: black;border-radius: 0.25em;background-color: #f0f8ff;}#sk-container-id-1 input.sk-toggleable__control:checked~div.sk-toggleable__content {max-height: 200px;max-width: 100%;overflow: auto;}#sk-container-id-1 input.sk-toggleable__control:checked~label.sk-toggleable__label-arrow:before {content: \"▾\";}#sk-container-id-1 div.sk-estimator input.sk-toggleable__control:checked~label.sk-toggleable__label {background-color: #d4ebff;}#sk-container-id-1 div.sk-label input.sk-toggleable__control:checked~label.sk-toggleable__label {background-color: #d4ebff;}#sk-container-id-1 input.sk-hidden--visually {border: 0;clip: rect(1px 1px 1px 1px);clip: rect(1px, 1px, 1px, 1px);height: 1px;margin: -1px;overflow: hidden;padding: 0;position: absolute;width: 1px;}#sk-container-id-1 div.sk-estimator {font-family: monospace;background-color: #f0f8ff;border: 1px dotted black;border-radius: 0.25em;box-sizing: border-box;margin-bottom: 0.5em;}#sk-container-id-1 div.sk-estimator:hover {background-color: #d4ebff;}#sk-container-id-1 div.sk-parallel-item::after {content: \"\";width: 100%;border-bottom: 1px solid gray;flex-grow: 1;}#sk-container-id-1 div.sk-label:hover label.sk-toggleable__label {background-color: #d4ebff;}#sk-container-id-1 div.sk-serial::before {content: \"\";position: absolute;border-left: 1px solid gray;box-sizing: border-box;top: 0;bottom: 0;left: 50%;z-index: 0;}#sk-container-id-1 div.sk-serial {display: flex;flex-direction: column;align-items: center;background-color: white;padding-right: 0.2em;padding-left: 0.2em;position: relative;}#sk-container-id-1 div.sk-item {position: relative;z-index: 1;}#sk-container-id-1 div.sk-parallel {display: flex;align-items: stretch;justify-content: center;background-color: white;position: relative;}#sk-container-id-1 div.sk-item::before, #sk-container-id-1 div.sk-parallel-item::before {content: \"\";position: absolute;border-left: 1px solid gray;box-sizing: border-box;top: 0;bottom: 0;left: 50%;z-index: -1;}#sk-container-id-1 div.sk-parallel-item {display: flex;flex-direction: column;z-index: 1;position: relative;background-color: white;}#sk-container-id-1 div.sk-parallel-item:first-child::after {align-self: flex-end;width: 50%;}#sk-container-id-1 div.sk-parallel-item:last-child::after {align-self: flex-start;width: 50%;}#sk-container-id-1 div.sk-parallel-item:only-child::after {width: 0;}#sk-container-id-1 div.sk-dashed-wrapped {border: 1px dashed gray;margin: 0 0.4em 0.5em 0.4em;box-sizing: border-box;padding-bottom: 0.4em;background-color: white;}#sk-container-id-1 div.sk-label label {font-family: monospace;font-weight: bold;display: inline-block;line-height: 1.2em;}#sk-container-id-1 div.sk-label-container {text-align: center;}#sk-container-id-1 div.sk-container {/* jupyter's `normalize.less` sets `[hidden] { display: none; }` but bootstrap.min.css set `[hidden] { display: none !important; }` so we also need the `!important` here to be able to override the default hidden behavior on the sphinx rendered scikit-learn.org. See: https://github.com/scikit-learn/scikit-learn/issues/21755 */display: inline-block !important;position: relative;}#sk-container-id-1 div.sk-text-repr-fallback {display: none;}</style><div id=\"sk-container-id-1\" class=\"sk-top-container\"><div class=\"sk-text-repr-fallback\"><pre>RandomForestClassifier(random_state=42)</pre><b>In a Jupyter environment, please rerun this cell to show the HTML representation or trust the notebook. <br />On GitHub, the HTML representation is unable to render, please try loading this page with nbviewer.org.</b></div><div class=\"sk-container\" hidden><div class=\"sk-item\"><div class=\"sk-estimator sk-toggleable\"><input class=\"sk-toggleable__control sk-hidden--visually\" id=\"sk-estimator-id-1\" type=\"checkbox\" checked><label for=\"sk-estimator-id-1\" class=\"sk-toggleable__label sk-toggleable__label-arrow\">RandomForestClassifier</label><div class=\"sk-toggleable__content\"><pre>RandomForestClassifier(random_state=42)</pre></div></div></div></div></div>"
      ],
      "text/plain": [
       "RandomForestClassifier(random_state=42)"
      ]
     },
     "execution_count": 21,
     "metadata": {},
     "output_type": "execute_result"
    }
   ],
   "source": [
    "model = RandomForestClassifier(random_state=42)\n",
    "#nnew\n",
    "model.fit(X_train, y_train, sample_weight=train_weights)\n",
    "# model.fit(X_train, y_train)"
   ]
  },
  {
   "cell_type": "code",
   "execution_count": 22,
   "metadata": {},
   "outputs": [
    {
     "name": "stderr",
     "output_type": "stream",
     "text": [
      "/home/jasurkhon/.local/share/virtualenvs/fintech-FRh8gAjU/lib/python3.10/site-packages/sklearn/utils/validation.py:1858: FutureWarning: Feature names only support names that are all strings. Got feature names with dtypes: ['int', 'str']. An error will be raised in 1.2.\n",
      "  warnings.warn(\n"
     ]
    }
   ],
   "source": [
    "y_pred = model.predict(X_test)"
   ]
  },
  {
   "cell_type": "code",
   "execution_count": 23,
   "metadata": {},
   "outputs": [
    {
     "name": "stdout",
     "output_type": "stream",
     "text": [
      "Classification Report:\n",
      "               precision    recall  f1-score   support\n",
      "\n",
      "           0       1.00      1.00      1.00      7935\n",
      "           1       1.00      1.00      1.00      1417\n",
      "\n",
      "    accuracy                           1.00      9352\n",
      "   macro avg       1.00      1.00      1.00      9352\n",
      "weighted avg       1.00      1.00      1.00      9352\n",
      "\n",
      "Accuracy Score: 1.0\n"
     ]
    }
   ],
   "source": [
    "#evaluation\n",
    "print(\"Classification Report:\\n\", classification_report(y_test, y_pred))\n",
    "print(\"Accuracy Score:\", accuracy_score(y_test, y_pred))"
   ]
  },
  {
   "cell_type": "code",
   "execution_count": 24,
   "metadata": {},
   "outputs": [
    {
     "name": "stderr",
     "output_type": "stream",
     "text": [
      "/home/jasurkhon/.local/share/virtualenvs/fintech-FRh8gAjU/lib/python3.10/site-packages/sklearn/utils/validation.py:1858: FutureWarning: Feature names only support names that are all strings. Got feature names with dtypes: ['int', 'str']. An error will be raised in 1.2.\n",
      "  warnings.warn(\n"
     ]
    },
    {
     "name": "stdout",
     "output_type": "stream",
     "text": [
      "Training Classification Report:\n",
      "               precision    recall  f1-score   support\n",
      "\n",
      "           0       1.00      1.00      1.00     18391\n",
      "           1       1.00      1.00      1.00      3429\n",
      "\n",
      "    accuracy                           1.00     21820\n",
      "   macro avg       1.00      1.00      1.00     21820\n",
      "weighted avg       1.00      1.00      1.00     21820\n",
      "\n",
      "Training Accuracy Score: 1.0\n"
     ]
    }
   ],
   "source": [
    "y_train_pred = model.predict(X_train)\n",
    "\n",
    "#training performance metrics\n",
    "print(\"Training Classification Report:\\n\", classification_report(y_train, y_train_pred))\n",
    "print(\"Training Accuracy Score:\", accuracy_score(y_train, y_train_pred))"
   ]
  },
  {
   "cell_type": "code",
   "execution_count": 25,
   "metadata": {},
   "outputs": [
    {
     "name": "stderr",
     "output_type": "stream",
     "text": [
      "/home/jasurkhon/.local/share/virtualenvs/fintech-FRh8gAjU/lib/python3.10/site-packages/sklearn/utils/validation.py:1858: FutureWarning: Feature names only support names that are all strings. Got feature names with dtypes: ['int', 'str']. An error will be raised in 1.2.\n",
      "  warnings.warn(\n",
      "/home/jasurkhon/.local/share/virtualenvs/fintech-FRh8gAjU/lib/python3.10/site-packages/sklearn/utils/validation.py:1858: FutureWarning: Feature names only support names that are all strings. Got feature names with dtypes: ['int', 'str']. An error will be raised in 1.2.\n",
      "  warnings.warn(\n",
      "/home/jasurkhon/.local/share/virtualenvs/fintech-FRh8gAjU/lib/python3.10/site-packages/sklearn/utils/validation.py:1858: FutureWarning: Feature names only support names that are all strings. Got feature names with dtypes: ['int', 'str']. An error will be raised in 1.2.\n",
      "  warnings.warn(\n",
      "/home/jasurkhon/.local/share/virtualenvs/fintech-FRh8gAjU/lib/python3.10/site-packages/sklearn/utils/validation.py:1858: FutureWarning: Feature names only support names that are all strings. Got feature names with dtypes: ['int', 'str']. An error will be raised in 1.2.\n",
      "  warnings.warn(\n",
      "/home/jasurkhon/.local/share/virtualenvs/fintech-FRh8gAjU/lib/python3.10/site-packages/sklearn/utils/validation.py:1858: FutureWarning: Feature names only support names that are all strings. Got feature names with dtypes: ['int', 'str']. An error will be raised in 1.2.\n",
      "  warnings.warn(\n",
      "/home/jasurkhon/.local/share/virtualenvs/fintech-FRh8gAjU/lib/python3.10/site-packages/sklearn/utils/validation.py:1858: FutureWarning: Feature names only support names that are all strings. Got feature names with dtypes: ['int', 'str']. An error will be raised in 1.2.\n",
      "  warnings.warn(\n",
      "/home/jasurkhon/.local/share/virtualenvs/fintech-FRh8gAjU/lib/python3.10/site-packages/sklearn/utils/validation.py:1858: FutureWarning: Feature names only support names that are all strings. Got feature names with dtypes: ['int', 'str']. An error will be raised in 1.2.\n",
      "  warnings.warn(\n",
      "/home/jasurkhon/.local/share/virtualenvs/fintech-FRh8gAjU/lib/python3.10/site-packages/sklearn/utils/validation.py:1858: FutureWarning: Feature names only support names that are all strings. Got feature names with dtypes: ['int', 'str']. An error will be raised in 1.2.\n",
      "  warnings.warn(\n",
      "/home/jasurkhon/.local/share/virtualenvs/fintech-FRh8gAjU/lib/python3.10/site-packages/sklearn/utils/validation.py:1858: FutureWarning: Feature names only support names that are all strings. Got feature names with dtypes: ['int', 'str']. An error will be raised in 1.2.\n",
      "  warnings.warn(\n"
     ]
    },
    {
     "name": "stdout",
     "output_type": "stream",
     "text": [
      "Cross-Validation Scores: [0.99326383 1.         1.         1.         0.97609881]\n",
      "Mean Cross-Validation Score: 0.9938725292321721\n"
     ]
    },
    {
     "name": "stderr",
     "output_type": "stream",
     "text": [
      "/home/jasurkhon/.local/share/virtualenvs/fintech-FRh8gAjU/lib/python3.10/site-packages/sklearn/utils/validation.py:1858: FutureWarning: Feature names only support names that are all strings. Got feature names with dtypes: ['int', 'str']. An error will be raised in 1.2.\n",
      "  warnings.warn(\n"
     ]
    }
   ],
   "source": [
    "from sklearn.model_selection import cross_val_score\n",
    "\n",
    "#cross-validation\n",
    "cv_scores = cross_val_score(model, X_with_clusters, y, cv=5) \n",
    "\n",
    "print(\"Cross-Validation Scores:\", cv_scores)\n",
    "print(\"Mean Cross-Validation Score:\", np.mean(cv_scores))\n"
   ]
  },
  {
   "cell_type": "code",
   "execution_count": 26,
   "metadata": {},
   "outputs": [
    {
     "name": "stdout",
     "output_type": "stream",
     "text": [
      "Sample 0: True Label = 1, Predicted Label = 1\n",
      "Sample 1: True Label = 1, Predicted Label = 1\n",
      "Sample 2: True Label = 0, Predicted Label = 0\n",
      "Sample 3: True Label = 0, Predicted Label = 0\n",
      "Sample 4: True Label = 0, Predicted Label = 0\n",
      "Sample 5: True Label = 0, Predicted Label = 0\n",
      "Sample 6: True Label = 0, Predicted Label = 0\n",
      "Sample 7: True Label = 0, Predicted Label = 0\n",
      "Sample 8: True Label = 0, Predicted Label = 0\n",
      "Sample 9: True Label = 0, Predicted Label = 0\n"
     ]
    },
    {
     "name": "stderr",
     "output_type": "stream",
     "text": [
      "/tmp/ipykernel_2489/1728642875.py:2: FutureWarning: The behavior of `series[i:j]` with an integer-dtype index is deprecated. In a future version, this will be treated as *label-based* indexing, consistent with e.g. `series[i]` lookups. To retain the old behavior, use `series.iloc[i:j]`. To get the future behavior, use `series.loc[i:j]`.\n",
      "  true_labels = y_test[:10]\n",
      "/home/jasurkhon/.local/share/virtualenvs/fintech-FRh8gAjU/lib/python3.10/site-packages/sklearn/utils/validation.py:1858: FutureWarning: Feature names only support names that are all strings. Got feature names with dtypes: ['int', 'str']. An error will be raised in 1.2.\n",
      "  warnings.warn(\n"
     ]
    }
   ],
   "source": [
    "test_samples = X_test[:10] \n",
    "true_labels = y_test[:10]\n",
    "predicted_labels = model.predict(test_samples)\n",
    "\n",
    "for i in range(len(test_samples)):\n",
    "    print(f\"Sample {i}: True Label = {true_labels.iloc[i]}, Predicted Label = {predicted_labels[i]}\")\n"
   ]
  },
  {
   "cell_type": "code",
   "execution_count": 27,
   "metadata": {},
   "outputs": [],
   "source": [
    "#feature importance\n",
    "importances = model.feature_importances_"
   ]
  },
  {
   "cell_type": "code",
   "execution_count": 28,
   "metadata": {},
   "outputs": [],
   "source": [
    "one_hot_encoder = preprocessor.named_transformers_['cat']\n",
    "encoded_categorical_features = one_hot_encoder.get_feature_names_out(categorical_columns)"
   ]
  },
  {
   "cell_type": "code",
   "execution_count": 29,
   "metadata": {},
   "outputs": [],
   "source": [
    "feature_names = numerical_columns + list(encoded_categorical_features) + ['cluster_label']"
   ]
  },
  {
   "cell_type": "code",
   "execution_count": 30,
   "metadata": {},
   "outputs": [],
   "source": [
    "feature_importance_df = pd.DataFrame({'Feature': feature_names, 'Importance': importances})"
   ]
  },
  {
   "cell_type": "code",
   "execution_count": 31,
   "metadata": {},
   "outputs": [
    {
     "name": "stderr",
     "output_type": "stream",
     "text": [
      "/tmp/ipykernel_2489/943418654.py:4: FutureWarning: The frame.append method is deprecated and will be removed from pandas in a future version. Use pandas.concat instead.\n",
      "  feature_importance_df = feature_importance_df.append({'Feature': col, 'Importance': total_importance}, ignore_index=True)\n",
      "/tmp/ipykernel_2489/943418654.py:4: FutureWarning: The frame.append method is deprecated and will be removed from pandas in a future version. Use pandas.concat instead.\n",
      "  feature_importance_df = feature_importance_df.append({'Feature': col, 'Importance': total_importance}, ignore_index=True)\n",
      "/tmp/ipykernel_2489/943418654.py:4: FutureWarning: The frame.append method is deprecated and will be removed from pandas in a future version. Use pandas.concat instead.\n",
      "  feature_importance_df = feature_importance_df.append({'Feature': col, 'Importance': total_importance}, ignore_index=True)\n"
     ]
    }
   ],
   "source": [
    "for col in categorical_columns:\n",
    "    matching_features = feature_importance_df[feature_importance_df['Feature'].str.contains(col)]\n",
    "    total_importance = matching_features['Importance'].sum()\n",
    "    feature_importance_df = feature_importance_df.append({'Feature': col, 'Importance': total_importance}, ignore_index=True)\n"
   ]
  },
  {
   "cell_type": "code",
   "execution_count": 32,
   "metadata": {},
   "outputs": [],
   "source": [
    "feature_importance_original = feature_importance_df[feature_importance_df['Feature'].isin(selected_features)]"
   ]
  },
  {
   "cell_type": "code",
   "execution_count": 33,
   "metadata": {},
   "outputs": [],
   "source": [
    "feature_importance_original = feature_importance_original.sort_values(by='Importance', ascending=False)"
   ]
  },
  {
   "cell_type": "code",
   "execution_count": 34,
   "metadata": {},
   "outputs": [
    {
     "name": "stdout",
     "output_type": "stream",
     "text": [
      "Feature Importances of the selected Features:\n",
      "                  Feature  Importance\n",
      "3        cumulative_days    0.477655\n",
      "0           сумма_выдачи    0.114607\n",
      "1    залоговая_стоимость    0.090422\n",
      "360    кредитный_продукт    0.074936\n",
      "359            должность    0.022567\n",
      "361         регион_город    0.021132\n",
      "2                возраст    0.019957\n"
     ]
    }
   ],
   "source": [
    "print(\"Feature Importances of the selected Features:\\n\", feature_importance_original)"
   ]
  },
  {
   "cell_type": "code",
   "execution_count": 39,
   "metadata": {},
   "outputs": [],
   "source": [
    "feature_importance_original.to_csv(\"feature_importance.csv\", index=False)"
   ]
  },
  {
   "cell_type": "code",
   "execution_count": 35,
   "metadata": {},
   "outputs": [
    {
     "data": {
      "text/plain": [
       "['kmeans1.pkl']"
      ]
     },
     "execution_count": 35,
     "metadata": {},
     "output_type": "execute_result"
    }
   ],
   "source": [
    "import joblib\n",
    "joblib.dump(model, 'credit_model1.pkl')\n",
    "joblib.dump(preprocessor, 'preprocessor1.pkl')\n",
    "joblib.dump(kmeans, 'kmeans1.pkl')"
   ]
  },
  {
   "cell_type": "code",
   "execution_count": null,
   "metadata": {},
   "outputs": [],
   "source": []
  }
 ],
 "metadata": {
  "kernelspec": {
   "display_name": "Python 3",
   "language": "python",
   "name": "python3"
  },
  "language_info": {
   "codemirror_mode": {
    "name": "ipython",
    "version": 3
   },
   "file_extension": ".py",
   "mimetype": "text/x-python",
   "name": "python",
   "nbconvert_exporter": "python",
   "pygments_lexer": "ipython3",
   "version": "3.10.12"
  }
 },
 "nbformat": 4,
 "nbformat_minor": 2
}
